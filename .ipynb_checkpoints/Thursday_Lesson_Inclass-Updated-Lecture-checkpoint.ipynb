{
 "cells": [
  {
   "cell_type": "markdown",
   "metadata": {},
   "source": [
    "# Object-Oriented-Programming (OOP)"
   ]
  },
  {
   "cell_type": "markdown",
   "metadata": {},
   "source": [
    "## Tasks Today:\n",
    "\n",
    "   \n",
    "\n",
    "1) <b>Creating a Class (Initializing/Declaring)</b> <br>\n",
    "2) <b>Using a Class (Instantiating)</b> <br>\n",
    " &nbsp;&nbsp;&nbsp;&nbsp; a) Creating One Instance <br>\n",
    " &nbsp;&nbsp;&nbsp;&nbsp; b) Creating Multiple Instances <br>\n",
    " &nbsp;&nbsp;&nbsp;&nbsp; c) In-Class Exercise #1 - Create a Class 'Car' and instantiate three different makes of cars <br>\n",
    "3) <b>The \\__init\\__() Method</b> <br>\n",
    " &nbsp;&nbsp;&nbsp;&nbsp; a) The 'self' Attribute <br>\n",
    "4) <b>Class Attributes</b> <br>\n",
    " &nbsp;&nbsp;&nbsp;&nbsp; a) Initializing Attributes <br>\n",
    " &nbsp;&nbsp;&nbsp;&nbsp; b) Setting an Attribute Outside of the \\__init\\__() Method <br>\n",
    " &nbsp;&nbsp;&nbsp;&nbsp; c) Setting Defaults for Attributes <br>\n",
    " &nbsp;&nbsp;&nbsp;&nbsp; d) Accessing Class Attributes <br>\n",
    " &nbsp;&nbsp;&nbsp;&nbsp; e) Changing Class Attributes <br>\n",
    " &nbsp;&nbsp;&nbsp;&nbsp; f) In-Class Exercise #2 - Add a color and wheels attribute to your 'Car' class <br>\n",
    "5) <b>Class Methods</b> <br>\n",
    " &nbsp;&nbsp;&nbsp;&nbsp; a) Creating <br>\n",
    " &nbsp;&nbsp;&nbsp;&nbsp; b) Calling <br>\n",
    " &nbsp;&nbsp;&nbsp;&nbsp; c) Modifying an Attribute's Value Through a Method <br>\n",
    " &nbsp;&nbsp;&nbsp;&nbsp; d) Incrementing an Attribute's Value Through a Method <br>\n",
    " &nbsp;&nbsp;&nbsp;&nbsp; e) In-Class Exercise #3 - Add a method that prints the cars color and wheel number, then call them <br>\n",
    "6) <b>Inheritance</b> <br>\n",
    " &nbsp;&nbsp;&nbsp;&nbsp; a) Syntax for Inheriting from a Parent Class <br>\n",
    " &nbsp;&nbsp;&nbsp;&nbsp; b) The \\__init\\__() Method for a Child Class (super()) <br>\n",
    " &nbsp;&nbsp;&nbsp;&nbsp; c) Defining Attributes and Methods for the Child Class <br>\n",
    " &nbsp;&nbsp;&nbsp;&nbsp; d) Method Overriding <br>\n",
    " &nbsp;&nbsp;&nbsp;&nbsp; e) In-Class Exercise #4 - Create a class 'Ford' that inherits from 'Car' class and initialize it as a Blue Ford Explorer with 4 wheels using the super() method <br>\n",
    "7) <b>Classes as Attributes</b> <br>\n",
    "8) <b>Exercises</b> <br>\n",
    " &nbsp;&nbsp;&nbsp;&nbsp; a) Exercise #1 - Turn the shopping cart program from yesterday into an object-oriented program <br>"
   ]
  },
  {
   "cell_type": "code",
   "execution_count": 1,
   "metadata": {},
   "outputs": [
    {
     "name": "stdout",
     "output_type": "stream",
     "text": [
      "Here is your cart... \n",
      "peaches\n",
      "oranges\n"
     ]
    }
   ],
   "source": [
    "from IPython.display import clear_output\n",
    "\n",
    "cart = []\n",
    "\n",
    "# Add to cart function\n",
    "def addItem(item):\n",
    "    clear_output()\n",
    "    cart.append(item)\n",
    "    \n",
    "# Remove From Cart\n",
    "def removeItem(item):\n",
    "    clear_output()\n",
    "    cart.remove(item)\n",
    "    \n",
    "# Show Cart Function\n",
    "def showCart():\n",
    "    clear_output()\n",
    "    print(\"Here is your cart... \")\n",
    "    for item in cart:\n",
    "        print(item)\n",
    "# Clear Cart\n",
    "def clearCart():\n",
    "    clear_output()\n",
    "    print(\"Your cart is now emtpy... \")\n",
    "    cart.clear()\n",
    "    \n",
    "def shoppingCart():\n",
    "    while True:\n",
    "        response = input(\"You can: quit / add / remove / show / or clear\")\n",
    "        \n",
    "        if response.lower() == 'quit':\n",
    "            print(\"Thanks for shopping here's your cart\")\n",
    "            showCart()\n",
    "            break\n",
    "        elif response.lower() == 'add':\n",
    "            item = input('What would you like to add?')\n",
    "            addItem(item)\n",
    "        elif response.lower() == 'remove':\n",
    "            showCart()\n",
    "            item = input('What item do you want to remove?')\n",
    "            removeItem(item)\n",
    "        elif response.lower() == 'show':\n",
    "            showCart()\n",
    "        elif response.lower() == 'clear':\n",
    "            clearCart()\n",
    "        else:\n",
    "            print(\"Sorry not a valid response - Please choose add/remove/clear/show or quit\")\n",
    "            \n",
    "shoppingCart()"
   ]
  },
  {
   "cell_type": "code",
   "execution_count": null,
   "metadata": {},
   "outputs": [],
   "source": [
    "# Circumfrance of a cirle\n"
   ]
  },
  {
   "cell_type": "markdown",
   "metadata": {},
   "source": [
    "## Creating a Class (Initializing/Declaring)\n",
    "<p>When creating a class, function, or even a variable you are initializing that object. Initializing and Declaring occur at the same time in Python, whereas in lower level languages you have to declare an object before initializing it. This is the first step in the process of using a class.</p>"
   ]
  },
  {
   "cell_type": "code",
   "execution_count": 1,
   "metadata": {},
   "outputs": [],
   "source": [
    "class Car():\n",
    "    wheels = 4\n",
    "    color = 'Blue'"
   ]
  },
  {
   "cell_type": "markdown",
   "metadata": {},
   "source": [
    "## Using a Class (Instantiating)\n",
    "<p>The process of creating a class is called <i>Instantiating</i>. Each time you create a variable of that type of class, it is referred to as an <i>Instance</i> of that class. This is the second step in the process of using a class.</p>"
   ]
  },
  {
   "cell_type": "markdown",
   "metadata": {},
   "source": [
    "##### Creating One Instance"
   ]
  },
  {
   "cell_type": "code",
   "execution_count": 2,
   "metadata": {},
   "outputs": [
    {
     "data": {
      "text/plain": [
       "4"
      ]
     },
     "execution_count": 2,
     "metadata": {},
     "output_type": "execute_result"
    }
   ],
   "source": [
    "ford = Car()\n",
    "\n",
    "ford.wheels"
   ]
  },
  {
   "cell_type": "markdown",
   "metadata": {},
   "source": [
    "##### Creating Multiple Instances"
   ]
  },
  {
   "cell_type": "code",
   "execution_count": 3,
   "metadata": {},
   "outputs": [
    {
     "data": {
      "text/plain": [
       "'Blue'"
      ]
     },
     "execution_count": 3,
     "metadata": {},
     "output_type": "execute_result"
    }
   ],
   "source": [
    "chevy = Car()\n",
    "honda = Car()\n",
    "porsche = Car()\n",
    "\n",
    "porsche.color"
   ]
  },
  {
   "cell_type": "markdown",
   "metadata": {},
   "source": [
    "##### In-Class Exercise #1 - Create a Class 'Car' and Instantiate three different makes of cars"
   ]
  },
  {
   "cell_type": "code",
   "execution_count": 7,
   "metadata": {},
   "outputs": [
    {
     "name": "stdout",
     "output_type": "stream",
     "text": [
      "4 True\n"
     ]
    }
   ],
   "source": [
    "# Add doors, a new color, wheels , and a sunroof\n",
    "\n",
    "# Output: Number of doors : 4, Color: 'red', Wheels: 4, sunroof: True\n",
    "\n",
    "class Car():\n",
    "    doors = 4\n",
    "    color = 'red'\n",
    "    wheels = 4\n",
    "    sunroof = True \n",
    "    \n",
    "honda = Car()\n",
    "toyota= Car()\n",
    "ford = Car()\n",
    "mazda = Car()\n",
    "\n",
    "print(mazda.doors, toyota.sunroof)\n",
    "\n",
    "\n"
   ]
  },
  {
   "cell_type": "markdown",
   "metadata": {},
   "source": [
    "## The \\__init\\__() Method <br>\n",
    "<p>This method is used in almost every created class, and called only once upon the creation of the class instance. This method will initialize all variables needed for the object.</p>"
   ]
  },
  {
   "cell_type": "code",
   "execution_count": 10,
   "metadata": {},
   "outputs": [
    {
     "name": "stdout",
     "output_type": "stream",
     "text": [
      "4\n"
     ]
    }
   ],
   "source": [
    "class Toy():\n",
    "    kind = \"Car\"#constant #global variable. any function inside the class, can call upon this variable.\n",
    "    \n",
    "    def __init__(self,rooftop,horn,wheels):\n",
    "        self.rooftop = rooftop\n",
    "        self.horn = horn\n",
    "        self.wheels = wheels\n",
    "hotwheels_car = Toy(1,1,4)\n",
    "\n",
    "print(hotwheels_car.wheels)"
   ]
  },
  {
   "cell_type": "markdown",
   "metadata": {},
   "source": [
    "##### The 'self' Attribute <br>\n",
    "<p>This attribute is required to keep track of specific instance's attributes. Without the self attribute, the program would not know how to reference or keep track of an instance's attributes.</p>"
   ]
  },
  {
   "cell_type": "code",
   "execution_count": 15,
   "metadata": {},
   "outputs": [
    {
     "data": {
      "text/plain": [
       "'rock on, climber!'"
      ]
     },
     "execution_count": 15,
     "metadata": {},
     "output_type": "execute_result"
    }
   ],
   "source": [
    "# see above\n",
    "\n",
    "class House():\n",
    "    def __init__(self,dishes,wall):\n",
    "        self.dishes= dishes\n",
    "        self.wall = wall\n",
    "    def washDishes(self):\n",
    "        if self.dishes.lower() == 'dirty':\n",
    "            return 'Clean'\n",
    "    def rockWall(self):\n",
    "        if self.wall.lower()=='yes':\n",
    "            return 'rock on, climber!'\n",
    "        else:\n",
    "            return 'why dont you want a wall?'\n",
    "        \n",
    "brandon_house = House('dirty', 'yes')\n",
    "\n",
    "#run functions\n",
    "\n",
    "brandon_house.washDishes()\n",
    "brandon_house.rockWall()"
   ]
  },
  {
   "cell_type": "markdown",
   "metadata": {},
   "source": [
    "## Class Attributes <br>\n",
    "<p>While variables are inside of a class, they are referred to as attributes and not variables. When someone says 'attribute' you know they're speaking about a class. Attributes can be initialized through the init method, or outside of it.</p>"
   ]
  },
  {
   "cell_type": "markdown",
   "metadata": {},
   "source": [
    "##### Initializing Attributes"
   ]
  },
  {
   "cell_type": "code",
   "execution_count": 11,
   "metadata": {},
   "outputs": [],
   "source": [
    "# see above\n",
    "tanka_truck = Toy(2,1,4) # 2 rooftop, 1 horn , 4 wheels"
   ]
  },
  {
   "cell_type": "markdown",
   "metadata": {},
   "source": [
    "##### Accessing Class Attributes"
   ]
  },
  {
   "cell_type": "code",
   "execution_count": 15,
   "metadata": {
    "scrolled": true
   },
   "outputs": [
    {
     "name": "stdout",
     "output_type": "stream",
     "text": [
      "2\n",
      "2\n"
     ]
    }
   ],
   "source": [
    "# See Above\n",
    "def creation_paw_patrol():\n",
    "    rooftop = 2\n",
    "    return rooftop\n",
    "\n",
    "print(tanka_truck.rooftop)\n",
    "print(creation_paw_patrol())"
   ]
  },
  {
   "cell_type": "markdown",
   "metadata": {},
   "source": [
    "##### Setting Defaults for Attributes"
   ]
  },
  {
   "cell_type": "code",
   "execution_count": 16,
   "metadata": {},
   "outputs": [
    {
     "name": "stdout",
     "output_type": "stream",
     "text": [
      "How much do you weigh?200\n",
      "True\n"
     ]
    }
   ],
   "source": [
    "class Human():\n",
    "    \n",
    "    def __init__(self,walking,height,weight,talk = True, eyes=\"brown\"):\n",
    "        self.walking = walking\n",
    "        self.height = height\n",
    "        self.weight = weight\n",
    "        self.talk = talk\n",
    "        self.eyes = eyes\n",
    "        \n",
    "weight = input('How much do you weigh?')\n",
    "\n",
    "joel = Human(True,\"6ft 1in\", weight)\n",
    "print(joel.talk)"
   ]
  },
  {
   "cell_type": "markdown",
   "metadata": {},
   "source": [
    "##### Changing Class Attributes <br>\n",
    "<p>Keep in mind there are global class attributes and then there are attributes only available to each class instance which won't effect other classes.</p>"
   ]
  },
  {
   "cell_type": "code",
   "execution_count": 17,
   "metadata": {},
   "outputs": [
    {
     "name": "stdout",
     "output_type": "stream",
     "text": [
      "Car\n",
      "After The Change:  Truck\n"
     ]
    }
   ],
   "source": [
    "print(tanka_truck.kind)\n",
    "tanka_truck.kind = \"Truck\"\n",
    "print(\"After The Change: \", tanka_truck.kind)"
   ]
  },
  {
   "cell_type": "code",
   "execution_count": 18,
   "metadata": {
    "scrolled": true
   },
   "outputs": [
    {
     "name": "stdout",
     "output_type": "stream",
     "text": [
      "200\n",
      "After The Change:  210lb\n"
     ]
    }
   ],
   "source": [
    "print(joel.weight)\n",
    "joel.weight = \"210lb\"\n",
    "\n",
    "print(\"After The Change: \", joel.weight)"
   ]
  },
  {
   "cell_type": "markdown",
   "metadata": {},
   "source": [
    "##### In-Class Exercise #2 - Add a doors and seats attribute to your 'Car' class then print out two different instances with different doors and seats"
   ]
  },
  {
   "cell_type": "code",
   "execution_count": 11,
   "metadata": {},
   "outputs": [
    {
     "name": "stdout",
     "output_type": "stream",
     "text": [
      "4 6\n",
      "4 5\n"
     ]
    }
   ],
   "source": [
    "# tesla_roadster = Car(4,5) # 4 - Doors, 5 Seats\n",
    "# honda_CRV = Car(4, 6) 4 - Doors - 6 Seats\n",
    "\n",
    "# class Car:\n",
    "    #color\n",
    "    #sunroof\n",
    "    #etc\n",
    "    # def __init__()\n",
    "    \n",
    "class Car():\n",
    "    doors = 4\n",
    "    color = \"red\"\n",
    "    wheels = 4\n",
    "    sunRoof = True\n",
    "    def __init__(self,doors,seats):\n",
    "        self.doors= doors\n",
    "        self.seats=seats\n",
    "        \n",
    "honda_CRV = Car(4, 6)\n",
    "tesla_roadster = Car(4,5)\n",
    "print(honda_CRV.doors, honda_CRV.seats)\n",
    "print(tesla_roadster.doors, tesla_roadster.seats)"
   ]
  },
  {
   "cell_type": "markdown",
   "metadata": {},
   "source": [
    "## Class Methods <br>\n",
    "<p>While inside of a class, functions are referred to as 'methods'. If you hear someone mention methods, they're speaking about classes. Methods are essentially functions, but only callable on the instances of a class.</p>"
   ]
  },
  {
   "cell_type": "markdown",
   "metadata": {},
   "source": [
    "##### Creating"
   ]
  },
  {
   "cell_type": "code",
   "execution_count": 38,
   "metadata": {},
   "outputs": [
    {
     "name": "stdout",
     "output_type": "stream",
     "text": [
      "What do you want to do - Add/Show or Quit?add\n",
      "What would you like to add? apples\n",
      "What do you want to do - Add/Show or Quit?quit\n",
      "Here is your bag...\n",
      "apples\n",
      "You have items in your bag!\n"
     ]
    }
   ],
   "source": [
    "class ShoppingBag():\n",
    "    def __init__(self,handles,capacity,items):\n",
    "        self.handles = handles\n",
    "        self.capacity = capacity\n",
    "        self.items = items\n",
    "        \n",
    "    \"\"\"\n",
    "        ShoppingBag will require 3 positional arguments:\n",
    "        handles: which expects to be an integer\n",
    "        capacity: which is expected to be an integer\n",
    "        items: which is expected to be a list - List CAN be empty\n",
    "    \"\"\"\n",
    "\n",
    "    # Method to show ShoppingBag\n",
    "    def showShoppingBag(self):\n",
    "        if len(self.items)== 0:\n",
    "            print('empty')\n",
    "        else:\n",
    "            for item in self.items:\n",
    "                print(item)\n",
    "                print(\"You have items in your bag!\")\n",
    "            \n",
    "                    \n",
    "    # Method to show the capacity of the bag\n",
    "    def showCapacity(self):\n",
    "        print(f\"Your Capacity is {self.capacity}\")\n",
    "\n",
    "    # Method to add to the ShoppingBag\n",
    "    def addToShoppingBag(self):\n",
    "        product = input(\"What would you like to add? \")\n",
    "        self.items.append(product)\n",
    "\n",
    "    # Method to change current capacity\n",
    "    def changeBagCapacity(self,capacity):\n",
    "        \"\"\"\n",
    "            changeBagCapacity assumes capacity will be an integer\n",
    "        \"\"\"\n",
    "        self.capacity = capacity\n",
    "\n",
    "    # Method to Auto Increase Capacity\n",
    "    def autoIncreaseCapacity(self):\n",
    "        if self.capacity == isinstance(self.capacity, str):\n",
    "            print(\"Hey can't do that here buddy...\")\n",
    "        else:\n",
    "            self.capacity += 10\n",
    "                \n",
    "def run():\n",
    "    whole_food_bag = ShoppingBag(2,10,[])\n",
    "    while True:\n",
    "        response = input(\"What do you want to do - Add/Show or Quit?\")\n",
    "        if response.lower() == 'add':\n",
    "            whole_food_bag.addToShoppingBag()\n",
    "        if response.lower() == 'show':\n",
    "            whole_food_bag.showShoppingBag()\n",
    "        if response.lower() == 'quit':\n",
    "            print('Here is your bag...')\n",
    "            whole_food_bag.showShoppingBag()\n",
    "            break\n",
    "run()"
   ]
  },
  {
   "cell_type": "markdown",
   "metadata": {},
   "source": [
    "##### Calling"
   ]
  },
  {
   "cell_type": "code",
   "execution_count": null,
   "metadata": {},
   "outputs": [],
   "source": [
    "# See Above\n",
    "#created idea of shopping bag, instantiate adn MAKE one, and use it\n",
    "#create a function to run the Shoppingbag method on wholefoods_bag instance "
   ]
  },
  {
   "cell_type": "markdown",
   "metadata": {},
   "source": [
    "##### Modifying an Attribute's Value Through a Method"
   ]
  },
  {
   "cell_type": "code",
   "execution_count": 22,
   "metadata": {},
   "outputs": [
    {
     "name": "stdout",
     "output_type": "stream",
     "text": [
      "Your Capacity is 10\n",
      "Capacity AFTER the change...\n",
      "Your Capacity is 20\n"
     ]
    }
   ],
   "source": [
    "whole_food_bag = ShoppingBag(2,10,[])\n",
    "whole_food_bag.showCapacity()\n",
    "print(\"Capacity AFTER the change...\")\n",
    "whole_food_bag.changeBagCapacity(20)\n",
    "whole_food_bag.showCapacity()"
   ]
  },
  {
   "cell_type": "markdown",
   "metadata": {},
   "source": [
    "##### Incrementing an Attribute's Value Through a Method"
   ]
  },
  {
   "cell_type": "code",
   "execution_count": 23,
   "metadata": {},
   "outputs": [
    {
     "name": "stdout",
     "output_type": "stream",
     "text": [
      "Your Capacity is 20\n",
      "Capacity AFTER the increase...\n",
      "Your Capacity is 30\n"
     ]
    }
   ],
   "source": [
    "whole_food_bag.showCapacity()\n",
    "print(\"Capacity AFTER the increase...\")\n",
    "whole_food_bag.autoIncreaseCapacity()\n",
    "whole_food_bag.showCapacity()"
   ]
  },
  {
   "cell_type": "markdown",
   "metadata": {},
   "source": [
    "##### In-Class Exercise #3 - Add a method that takes in three parameters of year, doors and seats and prints out a formatted print statement with make, model, year, seats, and doors"
   ]
  },
  {
   "cell_type": "code",
   "execution_count": 28,
   "metadata": {},
   "outputs": [
    {
     "name": "stdout",
     "output_type": "stream",
     "text": [
      "What year do you like? 2020\n",
      "This car is from 2020 and is a Ford Expolorer and has 4 doors and 5 seats\n"
     ]
    },
    {
     "data": {
      "text/plain": [
       "'2020'"
      ]
     },
     "execution_count": 28,
     "metadata": {},
     "output_type": "execute_result"
    }
   ],
   "source": [
    "# Create class with 2 paramters inside of the __init__ which are make and model\n",
    "\n",
    "# Inside of the Car class create a method that has 4 parameter in total (self,year,door,seats)\n",
    "\n",
    "# Output: This car is from 2019 and is a Ford Expolorer and has 4 doors and 5 seats\n",
    "\n",
    "\n",
    "class Car():\n",
    "    \n",
    "    \"\"\"\n",
    "        Car Object requires 2 arguments to be passed at \n",
    "        Object instatiation which are make and model\n",
    "    \"\"\"\n",
    "    def __init__(self, make, model):\n",
    "        \"\"\"\n",
    "            This constuctor will create a make and model based on\n",
    "            the passed arguments which are expected to be strings \n",
    "            for both make and model\n",
    "        \"\"\"\n",
    "        self.make = make\n",
    "        self.model = model\n",
    "        \n",
    "    def printInfo(self,year, doors, seats):\n",
    "        self.year = year\n",
    "        print(f\"This car is from {year} and is a {self.make} {self.model} and has {doors} doors and {seats} seats\")\n",
    "\n",
    "year = input(\"What year do you like? \")\n",
    "\n",
    "ford = Car(\"Ford\", \"Expolorer\")\n",
    "ford.printInfo(year,4,5)\n",
    "ford.year\n"
   ]
  },
  {
   "cell_type": "markdown",
   "metadata": {},
   "source": [
    "## Inheritance <br>\n",
    "<p>You can create a child-parent relationship between two classes by using inheritance. What this allows you to do is have overriding methods, but also inherit traits from the parent class. Think of it as an actual parent and child, the child will inherit the parent's genes, as will the classes in OOP</p>"
   ]
  },
  {
   "cell_type": "markdown",
   "metadata": {},
   "source": [
    "##### Syntax for Inheriting from a Parent Class"
   ]
  },
  {
   "cell_type": "code",
   "execution_count": 62,
   "metadata": {},
   "outputs": [
    {
     "name": "stdout",
     "output_type": "stream",
     "text": [
      "Some Generic Sound\n",
      "None\n",
      "Purr\n",
      "None\n"
     ]
    }
   ],
   "source": [
    "#create a parent class\n",
    "class Animal():\n",
    "    acceleration = 9.8\n",
    "    \n",
    "    def __init__(self,name,species,legs = 4):\n",
    "        self.name = name\n",
    "        self.species = species\n",
    "        self.legs = legs\n",
    "        \n",
    "       #generic parent method= this is no overridding anything \n",
    "        \n",
    "    def makeSound(self):\n",
    "        print(\"Some Generic Sound\")\n",
    "        \n",
    "#child class \n",
    "# Inheritence without override\n",
    "class Dog(Animal):\n",
    "    speed = 15\n",
    "    \n",
    "    def printInfo(self):\n",
    "        print(f\"This Dog is {self.name} and in {self.speed}mph & {self.acceler}\")\n",
    "\n",
    "        \n",
    "#grandchild class\n",
    "\n",
    "def Mutt(Dog):\n",
    "    color=\"Tan\"\n",
    "    # overrid the ANIMAL class using the Dog class\n",
    "    def _init_(self,name, species, eye_color, legs=4):\n",
    "        Dog.__init__(self, name, species, legs)\n",
    "        self.eye_color= eye_color\n",
    "      # Method Overriding\n",
    "    def makeSound(self):\n",
    "        print(\"Bark\")\n",
    "    \n",
    "        \n",
    "# Inheritence WITH override        \n",
    "class Cat(Animal):\n",
    "    eye_color = 'brown'\n",
    "    \n",
    "    def __init__(self,name,species,color,legs = 4):\n",
    "        Animal.__init__(self,name,species,legs)\n",
    "        self.color = color\n",
    "        \n",
    "    # Method Overriding\n",
    "    def makeSound(self):\n",
    "        print(\"Purr\")\n",
    "        \n",
    "# help(Dog)\n",
    "\n",
    "# lassie = Dog('lassie','Dog')\n",
    "# lassie.printInfo()\n",
    "\n",
    "# help(Cat)\n",
    "\n",
    "generic_animal = Animal('Generic',\"Random_Species\")\n",
    "\n",
    "print(generic_animal.makeSound())\n",
    "\n",
    "garfield = Cat('Garfield','Cat','Orange')\n",
    "garfield.name\n",
    "garfield.eye_color\n",
    "print(garfield.makeSound())"
   ]
  },
  {
   "cell_type": "markdown",
   "metadata": {},
   "source": [
    "##### The \\__init\\__() Method for a Child Class - super()"
   ]
  },
  {
   "cell_type": "code",
   "execution_count": 67,
   "metadata": {
    "scrolled": true
   },
   "outputs": [
    {
     "name": "stdout",
     "output_type": "stream",
     "text": [
      "This Bird is Red and has brown\n"
     ]
    }
   ],
   "source": [
    "class Bird(Cat,Animal):\n",
    "    speed = \"25mph\"\n",
    "    \n",
    "    def __init__(self,name,species,color,legs = 4):\n",
    "        super().__init__(name,species,legs)\n",
    "        self.color = color\n",
    "        \n",
    "    def printInfo(self):\n",
    "        print(f\"This Bird is {self.color} and has {self.eye_color}\")\n",
    "\n",
    "# help(Bird)\n",
    "polly = Bird(\"polly\",\"Bird\",\"Red\")\n",
    "polly.printInfo()"
   ]
  },
  {
   "cell_type": "markdown",
   "metadata": {},
   "source": [
    "### Multiple Inheritence"
   ]
  },
  {
   "cell_type": "code",
   "execution_count": 59,
   "metadata": {},
   "outputs": [
    {
     "name": "stdout",
     "output_type": "stream",
     "text": [
      "Help on class Bird in module __main__:\n",
      "\n",
      "class Bird(Cat, Animal)\n",
      " |  Bird(name, species, color, legs=4)\n",
      " |  \n",
      " |  Method resolution order:\n",
      " |      Bird\n",
      " |      Cat\n",
      " |      Animal\n",
      " |      builtins.object\n",
      " |  \n",
      " |  Methods defined here:\n",
      " |  \n",
      " |  __init__(self, name, species, color, legs=4)\n",
      " |      Initialize self.  See help(type(self)) for accurate signature.\n",
      " |  \n",
      " |  printInfo(self)\n",
      " |  \n",
      " |  ----------------------------------------------------------------------\n",
      " |  Data and other attributes defined here:\n",
      " |  \n",
      " |  speed = '25mph'\n",
      " |  \n",
      " |  ----------------------------------------------------------------------\n",
      " |  Methods inherited from Cat:\n",
      " |  \n",
      " |  makeSound(self)\n",
      " |      # Method Overriding\n",
      " |  \n",
      " |  ----------------------------------------------------------------------\n",
      " |  Data and other attributes inherited from Cat:\n",
      " |  \n",
      " |  eye_color = 'brown'\n",
      " |  \n",
      " |  ----------------------------------------------------------------------\n",
      " |  Data descriptors inherited from Animal:\n",
      " |  \n",
      " |  __dict__\n",
      " |      dictionary for instance variables (if defined)\n",
      " |  \n",
      " |  __weakref__\n",
      " |      list of weak references to the object (if defined)\n",
      " |  \n",
      " |  ----------------------------------------------------------------------\n",
      " |  Data and other attributes inherited from Animal:\n",
      " |  \n",
      " |  acceleration = 9.8\n",
      "\n",
      "This Bird is Red\n"
     ]
    }
   ],
   "source": [
    "class Bird(Cat,Animal):\n",
    "    speed = \"25mph\"\n",
    "    \n",
    "    def __init__(self,name,species,color,legs = 4):\n",
    "        super().__init__(name,species,color,legs)\n",
    "        self.color = color\n",
    "        \n",
    "    def printInfo(self):\n",
    "        print(f\"This Bird is {self.color}\")\n",
    "\n",
    "help(Bird)\n",
    "polly = Bird(\"polly\",\"Bird\",\"Red\")\n",
    "polly.printInfo()"
   ]
  },
  {
   "cell_type": "markdown",
   "metadata": {},
   "source": [
    "##### Defining Attributes and Methods for the Child Class"
   ]
  },
  {
   "cell_type": "code",
   "execution_count": null,
   "metadata": {},
   "outputs": [],
   "source": [
    "# See Above"
   ]
  },
  {
   "cell_type": "markdown",
   "metadata": {},
   "source": [
    "##### Method Overriding"
   ]
  },
  {
   "cell_type": "code",
   "execution_count": null,
   "metadata": {},
   "outputs": [],
   "source": [
    "# See Above"
   ]
  },
  {
   "cell_type": "markdown",
   "metadata": {},
   "source": [
    "## Classes as Attributes <br>\n",
    "<p>Classes can also be used as attributes within another class. This is useful in situations where you need to keep variables locally stored, instead of globally stored.</p>"
   ]
  },
  {
   "cell_type": "code",
   "execution_count": 3,
   "metadata": {},
   "outputs": [
    {
     "name": "stdout",
     "output_type": "stream",
     "text": [
      "2020 Tesla 7.8 Battery Cells: 20\n",
      "2020 Tesla 7.8 Battery Cells: 20\n",
      "None\n"
     ]
    }
   ],
   "source": [
    "class Battery():\n",
    "    volts = 7.8\n",
    "    \n",
    "    def __init__(self,cells):\n",
    "        self.cells = cells\n",
    "        \n",
    "class Car():\n",
    "    def __init__(self,year,make,model,battery):\n",
    "        self.year = year\n",
    "        self.make = make\n",
    "        self.model = model\n",
    "        self.battery = battery\n",
    "        \n",
    "    def printInfo(self):\n",
    "        print(self.year,self.make,self.battery.volts, f\"Battery Cells: {self.battery.cells}\")\n",
    "        \n",
    "battery = Battery(20)\n",
    "\n",
    "tesla = Car(2020,\"Tesla\",\"Model X\", battery)\n",
    "\n",
    "tesla.printInfo()\n",
    "print(tesla.printInfo())\n",
    "\n"
   ]
  },
  {
   "cell_type": "markdown",
   "metadata": {},
   "source": [
    "# Exercises"
   ]
  },
  {
   "cell_type": "markdown",
   "metadata": {},
   "source": [
    "### Exercise 1 - Turn the shopping cart program from yesterday into an object-oriented program\n",
    "\n",
    "The comments in the cell below are there as a guide for thinking about the problem. However, if you feel a different way is best for you and your own thought process, please do what feels best for you by all means."
   ]
  },
  {
   "cell_type": "code",
   "execution_count": 68,
   "metadata": {},
   "outputs": [
    {
     "name": "stdout",
     "output_type": "stream",
     "text": [
      "What do you want to do - Add/Show/Remove or Quit?quit\n",
      "Here is your cart...\n",
      "empty\n"
     ]
    }
   ],
   "source": [
    "# Create a class called cart that retains items and has methods to add, remove, and show\n",
    "class Cart():\n",
    "    def __init__(self, items):\n",
    "        self.items = items\n",
    "    \n",
    "    def addToShoppingCart(self):\n",
    "        product = input(\"What would you like to add? \")\n",
    "        self.items.append(product)\n",
    "        \n",
    "    def showShoppingCart(self):\n",
    "        if len(self.items)== 0:\n",
    "            print('empty')\n",
    "        else:\n",
    "            print(\"You have items in your bag!\")\n",
    "            for item in self.items:\n",
    "                print(item)\n",
    "                \n",
    "    def removeFromShoppingCart(self):\n",
    "        trash = input(\"What would you like to remove?\")\n",
    "        self.items.remove(trash)\n",
    "                \n",
    "\n",
    "def run():\n",
    "    whole_food_cart = Cart([])\n",
    "    while True:\n",
    "        response = input(\"What do you want to do - Add/Show/Remove or Quit?\")\n",
    "        if response.lower() == 'add':\n",
    "            whole_food_cart.addToShoppingCart()\n",
    "        if response.lower() == 'show':\n",
    "            whole_food_cart.showShoppingCart()\n",
    "        if response.lower()=='remove':\n",
    "            whole_food_cart.removeFromShoppingCart()\n",
    "        if response.lower() == 'quit':\n",
    "            print('Here is your cart...')\n",
    "            whole_food_cart.showShoppingCart()\n",
    "            break\n",
    "run()\n",
    "    \n",
    " "
   ]
  },
  {
   "cell_type": "markdown",
   "metadata": {},
   "source": [
    "### Exercise 2 - Create a class 'Ford' that inherits from 'Car' class and initialize it as a Blue Ford Explorer with 4 wheels using the super() method, add a method to car which prints 'this is a car' and create an overriding method in class Ford that prints the information on the car"
   ]
  },
  {
   "cell_type": "code",
   "execution_count": 87,
   "metadata": {},
   "outputs": [
    {
     "name": "stdout",
     "output_type": "stream",
     "text": [
      "This is a blue ford explorer \n"
     ]
    }
   ],
   "source": [
    "# Create Parent Class called Car - That will be inherited by child Class called Ford\n",
    "# Add a method to the Car class that prints \"This is a car\"\n",
    "# Inside of the Child Class initialize the the inherited info using super()\n",
    "# Override the above method with the information of the Ford Car\n",
    "\n",
    "class Car():\n",
    "    def __init__(self, model, make, wheels = 4):\n",
    "        self.model = model\n",
    "        self.make = make\n",
    "        self.wheels = wheels\n",
    "        \n",
    "    def printInfo(self):\n",
    "        print('This is a a car')\n",
    "\n",
    "\n",
    "class Ford(Car):\n",
    "    def __init__(self, color, model, make, wheels = 4):\n",
    "        self.color = color\n",
    "        super().__init__(model,make,wheels)\n",
    "        \n",
    "    def printInfo(self):\n",
    "        print(f'This is a {self.color} {self.model} {self.make} ')\n",
    "        \n",
    "explorer = Ford('blue','ford', 'explorer')\n",
    "    \n",
    "    \n",
    "explorer.printInfo()\n"
   ]
  },
  {
   "cell_type": "code",
   "execution_count": null,
   "metadata": {},
   "outputs": [],
   "source": []
  }
 ],
 "metadata": {
  "kernelspec": {
   "display_name": "Python 3 (ipykernel)",
   "language": "python",
   "name": "python3"
  },
  "language_info": {
   "codemirror_mode": {
    "name": "ipython",
    "version": 3
   },
   "file_extension": ".py",
   "mimetype": "text/x-python",
   "name": "python",
   "nbconvert_exporter": "python",
   "pygments_lexer": "ipython3",
   "version": "3.9.12"
  }
 },
 "nbformat": 4,
 "nbformat_minor": 2
}
